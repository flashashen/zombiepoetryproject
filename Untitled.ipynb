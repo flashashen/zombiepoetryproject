{
 "cells": [
  {
   "cell_type": "markdown",
   "metadata": {
    "collapsed": true
   },
   "source": [
    "# Zombie Poetry Project\n"
   ]
  },
  {
   "cell_type": "markdown",
   "metadata": {},
   "source": [
    "### Recovery\n",
    "\n",
    "Sometimes the zombie wordpress server will lockup and even ssh access is impossible. The last time this happened, the instance would not reboot from the EC2 console. Here is the procdure to safely recover\n",
    "- Create an AMI or instance snapshot. The last time an AMI was used and it might be more foolproof than using a snapshot.\n",
    "- Add the new instance to provision/inventory/main.inventory and run setup_user.sh and then db_backup.sh against the new instance\n",
    "- Run set_hostname.sh against new instance\n"
   ]
  },
  {
   "cell_type": "code",
   "execution_count": null,
   "metadata": {
    "collapsed": true
   },
   "outputs": [],
   "source": [
    ""
   ]
  }
 ],
 "metadata": {
  "kernelspec": {
   "display_name": "Python 2",
   "language": "python",
   "name": "python2"
  },
  "language_info": {
   "codemirror_mode": {
    "name": "ipython",
    "version": 2.0
   },
   "file_extension": ".py",
   "mimetype": "text/x-python",
   "name": "python",
   "nbconvert_exporter": "python",
   "pygments_lexer": "ipython2",
   "version": "2.7.11"
  }
 },
 "nbformat": 4,
 "nbformat_minor": 0
}